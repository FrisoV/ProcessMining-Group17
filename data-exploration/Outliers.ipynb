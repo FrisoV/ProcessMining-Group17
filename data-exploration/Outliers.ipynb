{
 "cells": [
  {
   "cell_type": "code",
   "execution_count": 1,
   "metadata": {},
   "outputs": [],
   "source": [
    "import pandas as pd\n",
    "import numpy as np"
   ]
  },
  {
   "cell_type": "markdown",
   "metadata": {},
   "source": [
    "### Loading in data"
   ]
  },
  {
   "cell_type": "code",
   "execution_count": 2,
   "metadata": {},
   "outputs": [],
   "source": [
    "test_data = pd.read_csv('test_set.csv')\n",
    "train_data = pd.read_csv('train_set.csv')"
   ]
  },
  {
   "cell_type": "code",
   "execution_count": 3,
   "metadata": {},
   "outputs": [
    {
     "data": {
      "text/html": [
       "<div>\n",
       "<style scoped>\n",
       "    .dataframe tbody tr th:only-of-type {\n",
       "        vertical-align: middle;\n",
       "    }\n",
       "\n",
       "    .dataframe tbody tr th {\n",
       "        vertical-align: top;\n",
       "    }\n",
       "\n",
       "    .dataframe thead th {\n",
       "        text-align: right;\n",
       "    }\n",
       "</style>\n",
       "<table border=\"1\" class=\"dataframe\">\n",
       "  <thead>\n",
       "    <tr style=\"text-align: right;\">\n",
       "      <th></th>\n",
       "      <th>eventID</th>\n",
       "      <th>case concept:name</th>\n",
       "      <th>case REG_DATE</th>\n",
       "      <th>case AMOUNT_REQ</th>\n",
       "      <th>event concept:name</th>\n",
       "      <th>event lifecycle:transition</th>\n",
       "      <th>event time:timestamp</th>\n",
       "    </tr>\n",
       "  </thead>\n",
       "  <tbody>\n",
       "    <tr>\n",
       "      <th>0</th>\n",
       "      <td>0</td>\n",
       "      <td>173688</td>\n",
       "      <td>2011-10-01T00:38:44.546+02:00</td>\n",
       "      <td>20000</td>\n",
       "      <td>A_SUBMITTED</td>\n",
       "      <td>COMPLETE</td>\n",
       "      <td>01-10-2011 00:38:44.546</td>\n",
       "    </tr>\n",
       "    <tr>\n",
       "      <th>1</th>\n",
       "      <td>1</td>\n",
       "      <td>173688</td>\n",
       "      <td>2011-10-01T00:38:44.546+02:00</td>\n",
       "      <td>20000</td>\n",
       "      <td>A_PARTLYSUBMITTED</td>\n",
       "      <td>COMPLETE</td>\n",
       "      <td>01-10-2011 00:38:44.880</td>\n",
       "    </tr>\n",
       "    <tr>\n",
       "      <th>2</th>\n",
       "      <td>2</td>\n",
       "      <td>173688</td>\n",
       "      <td>2011-10-01T00:38:44.546+02:00</td>\n",
       "      <td>20000</td>\n",
       "      <td>A_PREACCEPTED</td>\n",
       "      <td>COMPLETE</td>\n",
       "      <td>01-10-2011 00:39:37.906</td>\n",
       "    </tr>\n",
       "    <tr>\n",
       "      <th>3</th>\n",
       "      <td>3</td>\n",
       "      <td>173688</td>\n",
       "      <td>2011-10-01T00:38:44.546+02:00</td>\n",
       "      <td>20000</td>\n",
       "      <td>W_Completeren aanvraag</td>\n",
       "      <td>SCHEDULE</td>\n",
       "      <td>01-10-2011 00:39:38.875</td>\n",
       "    </tr>\n",
       "    <tr>\n",
       "      <th>4</th>\n",
       "      <td>4294967296</td>\n",
       "      <td>173691</td>\n",
       "      <td>2011-10-01T08:08:58.256+02:00</td>\n",
       "      <td>5000</td>\n",
       "      <td>A_SUBMITTED</td>\n",
       "      <td>COMPLETE</td>\n",
       "      <td>01-10-2011 08:08:58.256</td>\n",
       "    </tr>\n",
       "    <tr>\n",
       "      <th>...</th>\n",
       "      <td>...</td>\n",
       "      <td>...</td>\n",
       "      <td>...</td>\n",
       "      <td>...</td>\n",
       "      <td>...</td>\n",
       "      <td>...</td>\n",
       "      <td>...</td>\n",
       "    </tr>\n",
       "    <tr>\n",
       "      <th>214372</th>\n",
       "      <td>38835094290529</td>\n",
       "      <td>201854</td>\n",
       "      <td>2012-01-18T02:09:07.029+01:00</td>\n",
       "      <td>50000</td>\n",
       "      <td>O_CANCELLED</td>\n",
       "      <td>COMPLETE</td>\n",
       "      <td>14-03-2012 15:30:19.361</td>\n",
       "    </tr>\n",
       "    <tr>\n",
       "      <th>214373</th>\n",
       "      <td>38835094290528</td>\n",
       "      <td>201854</td>\n",
       "      <td>2012-01-18T02:09:07.029+01:00</td>\n",
       "      <td>50000</td>\n",
       "      <td>A_CANCELLED</td>\n",
       "      <td>COMPLETE</td>\n",
       "      <td>14-03-2012 15:30:19.361</td>\n",
       "    </tr>\n",
       "    <tr>\n",
       "      <th>214374</th>\n",
       "      <td>38835094290530</td>\n",
       "      <td>201854</td>\n",
       "      <td>2012-01-18T02:09:07.029+01:00</td>\n",
       "      <td>50000</td>\n",
       "      <td>W_Nabellen incomplete dossiers</td>\n",
       "      <td>COMPLETE</td>\n",
       "      <td>14-03-2012 15:30:23.187</td>\n",
       "    </tr>\n",
       "    <tr>\n",
       "      <th>214375</th>\n",
       "      <td>35858681954366</td>\n",
       "      <td>199678</td>\n",
       "      <td>2012-01-10T19:16:52.800+01:00</td>\n",
       "      <td>30000</td>\n",
       "      <td>W_Nabellen offertes</td>\n",
       "      <td>START</td>\n",
       "      <td>14-03-2012 15:36:15.299</td>\n",
       "    </tr>\n",
       "    <tr>\n",
       "      <th>214376</th>\n",
       "      <td>35858681954367</td>\n",
       "      <td>199678</td>\n",
       "      <td>2012-01-10T19:16:52.800+01:00</td>\n",
       "      <td>30000</td>\n",
       "      <td>W_Nabellen offertes</td>\n",
       "      <td>COMPLETE</td>\n",
       "      <td>14-03-2012 15:40:34.231</td>\n",
       "    </tr>\n",
       "  </tbody>\n",
       "</table>\n",
       "<p>214377 rows × 7 columns</p>\n",
       "</div>"
      ],
      "text/plain": [
       "              eventID   case concept:name                  case REG_DATE  \\\n",
       "0                    0             173688  2011-10-01T00:38:44.546+02:00   \n",
       "1                    1             173688  2011-10-01T00:38:44.546+02:00   \n",
       "2                    2             173688  2011-10-01T00:38:44.546+02:00   \n",
       "3                    3             173688  2011-10-01T00:38:44.546+02:00   \n",
       "4           4294967296             173691  2011-10-01T08:08:58.256+02:00   \n",
       "...                ...                ...                            ...   \n",
       "214372  38835094290529             201854  2012-01-18T02:09:07.029+01:00   \n",
       "214373  38835094290528             201854  2012-01-18T02:09:07.029+01:00   \n",
       "214374  38835094290530             201854  2012-01-18T02:09:07.029+01:00   \n",
       "214375  35858681954366             199678  2012-01-10T19:16:52.800+01:00   \n",
       "214376  35858681954367             199678  2012-01-10T19:16:52.800+01:00   \n",
       "\n",
       "        case AMOUNT_REQ              event concept:name  \\\n",
       "0                 20000                     A_SUBMITTED   \n",
       "1                 20000               A_PARTLYSUBMITTED   \n",
       "2                 20000                   A_PREACCEPTED   \n",
       "3                 20000          W_Completeren aanvraag   \n",
       "4                  5000                     A_SUBMITTED   \n",
       "...                 ...                             ...   \n",
       "214372            50000                     O_CANCELLED   \n",
       "214373            50000                     A_CANCELLED   \n",
       "214374            50000  W_Nabellen incomplete dossiers   \n",
       "214375            30000             W_Nabellen offertes   \n",
       "214376            30000             W_Nabellen offertes   \n",
       "\n",
       "       event lifecycle:transition     event time:timestamp  \n",
       "0                        COMPLETE  01-10-2011 00:38:44.546  \n",
       "1                        COMPLETE  01-10-2011 00:38:44.880  \n",
       "2                        COMPLETE  01-10-2011 00:39:37.906  \n",
       "3                        SCHEDULE  01-10-2011 00:39:38.875  \n",
       "4                        COMPLETE  01-10-2011 08:08:58.256  \n",
       "...                           ...                      ...  \n",
       "214372                   COMPLETE  14-03-2012 15:30:19.361  \n",
       "214373                   COMPLETE  14-03-2012 15:30:19.361  \n",
       "214374                   COMPLETE  14-03-2012 15:30:23.187  \n",
       "214375                      START  14-03-2012 15:36:15.299  \n",
       "214376                   COMPLETE  14-03-2012 15:40:34.231  \n",
       "\n",
       "[214377 rows x 7 columns]"
      ]
     },
     "execution_count": 3,
     "metadata": {},
     "output_type": "execute_result"
    }
   ],
   "source": [
    "train_data"
   ]
  },
  {
   "cell_type": "code",
   "execution_count": 4,
   "metadata": {},
   "outputs": [
    {
     "data": {
      "text/html": [
       "<div>\n",
       "<style scoped>\n",
       "    .dataframe tbody tr th:only-of-type {\n",
       "        vertical-align: middle;\n",
       "    }\n",
       "\n",
       "    .dataframe tbody tr th {\n",
       "        vertical-align: top;\n",
       "    }\n",
       "\n",
       "    .dataframe thead th {\n",
       "        text-align: right;\n",
       "    }\n",
       "</style>\n",
       "<table border=\"1\" class=\"dataframe\">\n",
       "  <thead>\n",
       "    <tr style=\"text-align: right;\">\n",
       "      <th></th>\n",
       "      <th>eventID</th>\n",
       "      <th>case concept:name</th>\n",
       "      <th>case AMOUNT_REQ</th>\n",
       "    </tr>\n",
       "  </thead>\n",
       "  <tbody>\n",
       "    <tr>\n",
       "      <th>count</th>\n",
       "      <td>2.143770e+05</td>\n",
       "      <td>214377.000000</td>\n",
       "      <td>214377.000000</td>\n",
       "    </tr>\n",
       "    <tr>\n",
       "      <th>mean</th>\n",
       "      <td>2.268239e+13</td>\n",
       "      <td>190155.106742</td>\n",
       "      <td>15349.297327</td>\n",
       "    </tr>\n",
       "    <tr>\n",
       "      <th>std</th>\n",
       "      <td>1.324009e+13</td>\n",
       "      <td>9592.111876</td>\n",
       "      <td>12179.774398</td>\n",
       "    </tr>\n",
       "    <tr>\n",
       "      <th>min</th>\n",
       "      <td>0.000000e+00</td>\n",
       "      <td>173688.000000</td>\n",
       "      <td>0.000000</td>\n",
       "    </tr>\n",
       "    <tr>\n",
       "      <th>25%</th>\n",
       "      <td>1.090922e+13</td>\n",
       "      <td>181658.000000</td>\n",
       "      <td>6500.000000</td>\n",
       "    </tr>\n",
       "    <tr>\n",
       "      <th>50%</th>\n",
       "      <td>2.328302e+13</td>\n",
       "      <td>190591.000000</td>\n",
       "      <td>10300.000000</td>\n",
       "    </tr>\n",
       "    <tr>\n",
       "      <th>75%</th>\n",
       "      <td>3.404191e+13</td>\n",
       "      <td>198373.000000</td>\n",
       "      <td>20000.000000</td>\n",
       "    </tr>\n",
       "    <tr>\n",
       "      <th>max</th>\n",
       "      <td>4.495972e+13</td>\n",
       "      <td>206321.000000</td>\n",
       "      <td>99999.000000</td>\n",
       "    </tr>\n",
       "  </tbody>\n",
       "</table>\n",
       "</div>"
      ],
      "text/plain": [
       "           eventID   case concept:name  case AMOUNT_REQ\n",
       "count  2.143770e+05      214377.000000    214377.000000\n",
       "mean   2.268239e+13      190155.106742     15349.297327\n",
       "std    1.324009e+13        9592.111876     12179.774398\n",
       "min    0.000000e+00      173688.000000         0.000000\n",
       "25%    1.090922e+13      181658.000000      6500.000000\n",
       "50%    2.328302e+13      190591.000000     10300.000000\n",
       "75%    3.404191e+13      198373.000000     20000.000000\n",
       "max    4.495972e+13      206321.000000     99999.000000"
      ]
     },
     "execution_count": 4,
     "metadata": {},
     "output_type": "execute_result"
    }
   ],
   "source": [
    "train_data.describe()"
   ]
  },
  {
   "cell_type": "markdown",
   "metadata": {},
   "source": [
    "### Findings "
   ]
  },
  {
   "cell_type": "markdown",
   "metadata": {},
   "source": [
    "Findings so far:\n",
    "\n",
    "    No NaN values in the data\n",
    "    10469 unique cases in train\n",
    "    2618 unique cases in test\n",
    "    20 outliers in case amount, but not really outlier as its just a request for money\n",
    "    24 different event concepts\n",
    "    3 different event lifecycle (Start, complete, schedule)\n",
    "    "
   ]
  },
  {
   "cell_type": "markdown",
   "metadata": {},
   "source": [
    "#### Number of unique cases "
   ]
  },
  {
   "cell_type": "code",
   "execution_count": 5,
   "metadata": {},
   "outputs": [
    {
     "data": {
      "text/plain": [
       "10469"
      ]
     },
     "execution_count": 5,
     "metadata": {},
     "output_type": "execute_result"
    }
   ],
   "source": [
    "train_data['case concept:name'].nunique()"
   ]
  },
  {
   "cell_type": "markdown",
   "metadata": {},
   "source": [
    "#### Count nan values"
   ]
  },
  {
   "cell_type": "code",
   "execution_count": 6,
   "metadata": {},
   "outputs": [
    {
     "data": {
      "text/plain": [
       "eventID                       0\n",
       "case concept:name             0\n",
       "case REG_DATE                 0\n",
       "case AMOUNT_REQ               0\n",
       "event concept:name            0\n",
       "event lifecycle:transition    0\n",
       "event time:timestamp          0\n",
       "dtype: int64"
      ]
     },
     "execution_count": 6,
     "metadata": {},
     "output_type": "execute_result"
    }
   ],
   "source": [
    "train_data.isna().sum()"
   ]
  },
  {
   "cell_type": "markdown",
   "metadata": {},
   "source": [
    "#### Find outliers "
   ]
  },
  {
   "cell_type": "code",
   "execution_count": 7,
   "metadata": {},
   "outputs": [],
   "source": [
    "def outliers(data, columns:list):\n",
    "    '''Function to remove the outliers of each column.\n",
    "    Only for numeric values.\n",
    "    '''\n",
    "    outliers = []\n",
    "    for column in columns:\n",
    "        #first determine an interval of + or - 3*standard deviations of the mean\n",
    "        min_value = data.iloc[:,column].mean() - 3 * data.iloc[:,column].std()\n",
    "        max_value = data.iloc[:,column].mean() + 3 * data.iloc[:,column].std()\n",
    "        #then replace the values that fall outside of this interval with nan.\n",
    "        for i in range(len(data.iloc[:,column])):\n",
    "            if data.iloc[i, column] < min_value or data.iloc[i, column] > max_value:\n",
    "                if data.iloc[i,column] not in outliers:\n",
    "                    outliers.append(data.iloc[i,column])\n",
    "            \n",
    "    return outliers"
   ]
  },
  {
   "cell_type": "code",
   "execution_count": 8,
   "metadata": {},
   "outputs": [],
   "source": [
    "outliers = outliers(train_data, [3])"
   ]
  },
  {
   "cell_type": "code",
   "execution_count": 9,
   "metadata": {},
   "outputs": [
    {
     "data": {
      "text/plain": [
       "[52000,\n",
       " 53000,\n",
       " 55000,\n",
       " 56000,\n",
       " 57000,\n",
       " 57600,\n",
       " 59400,\n",
       " 60000,\n",
       " 62537,\n",
       " 64000,\n",
       " 65000,\n",
       " 68000,\n",
       " 69000,\n",
       " 70000,\n",
       " 72000,\n",
       " 75000,\n",
       " 80000,\n",
       " 90000,\n",
       " 99000,\n",
       " 99999]"
      ]
     },
     "execution_count": 9,
     "metadata": {},
     "output_type": "execute_result"
    }
   ],
   "source": [
    "outliers.sort()\n",
    "outliers"
   ]
  },
  {
   "cell_type": "markdown",
   "metadata": {},
   "source": [
    "#### Finding all event types "
   ]
  },
  {
   "cell_type": "code",
   "execution_count": 10,
   "metadata": {},
   "outputs": [
    {
     "name": "stdout",
     "output_type": "stream",
     "text": [
      "['A_SUBMITTED', 'A_PARTLYSUBMITTED', 'A_PREACCEPTED', 'W_Completeren aanvraag', 'A_DECLINED', 'W_Afhandelen leads', 'A_ACCEPTED', 'O_SELECTED', 'A_FINALIZED', 'O_CREATED', 'O_SENT', 'W_Nabellen offertes', 'O_CANCELLED', 'A_CANCELLED', 'W_Beoordelen fraude', 'O_SENT_BACK', 'W_Valideren aanvraag', 'W_Nabellen incomplete dossiers', 'O_ACCEPTED', 'A_APPROVED', 'A_ACTIVATED', 'A_REGISTERED', 'O_DECLINED', 'W_Wijzigen contractgegevens']\n"
     ]
    },
    {
     "data": {
      "text/plain": [
       "24"
      ]
     },
     "execution_count": 10,
     "metadata": {},
     "output_type": "execute_result"
    }
   ],
   "source": [
    "events = []\n",
    "for event in train_data['event concept:name']:\n",
    "    if event not in events:\n",
    "        events.append(event)\n",
    "print(events)\n",
    "len(events)"
   ]
  }
 ],
 "metadata": {
  "kernelspec": {
   "display_name": "Python 3",
   "language": "python",
   "name": "python3"
  },
  "language_info": {
   "codemirror_mode": {
    "name": "ipython",
    "version": 3
   },
   "file_extension": ".py",
   "mimetype": "text/x-python",
   "name": "python",
   "nbconvert_exporter": "python",
   "pygments_lexer": "ipython3",
   "version": "3.7.3"
  }
 },
 "nbformat": 4,
 "nbformat_minor": 4
}
