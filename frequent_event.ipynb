{
 "metadata": {
  "language_info": {
   "codemirror_mode": {
    "name": "ipython",
    "version": 3
   },
   "file_extension": ".py",
   "mimetype": "text/x-python",
   "name": "python",
   "nbconvert_exporter": "python",
   "pygments_lexer": "ipython3",
   "version": "3.7.7-final"
  },
  "orig_nbformat": 2,
  "kernelspec": {
   "name": "pycharm-fa519c03",
   "display_name": "PyCharm (group17)",
   "language": "python"
  }
 },
 "nbformat": 4,
 "nbformat_minor": 2,
 "cells": [
  {
   "cell_type": "code",
   "execution_count": 35,
   "metadata": {},
   "outputs": [],
   "source": [
    "import pandas as pd\n",
    "\n",
    "train = pd.read_csv(\"data/BPI_Challenge_2012-training.csv\")\n",
    "#converting dates to timestamps\n",
    "train[\"case REG_DATE\"] = pd.to_datetime(train[\"case REG_DATE\"])\n",
    "test = pd.read_csv(\"data/BPI_Challenge_2012-test.csv\")"
   ]
  },
  {
   "cell_type": "code",
   "execution_count": 52,
   "metadata": {},
   "outputs": [
    {
     "output_type": "execute_result",
     "data": {
      "text/plain": [
       "        eventID   case concept:name                     case REG_DATE  \\\n",
       "18   21474836480             173703  2011-10-01 09:45:25.806000+02:00   \n",
       "19   21474836481             173703  2011-10-01 09:45:25.806000+02:00   \n",
       "22   21474836482             173703  2011-10-01 09:45:25.806000+02:00   \n",
       "24   21474836483             173703  2011-10-01 09:45:25.806000+02:00   \n",
       "91   21474836484             173703  2011-10-01 09:45:25.806000+02:00   \n",
       "92   21474836485             173703  2011-10-01 09:45:25.806000+02:00   \n",
       "138  21474836486             173703  2011-10-01 09:45:25.806000+02:00   \n",
       "142  21474836487             173703  2011-10-01 09:45:25.806000+02:00   \n",
       "143  21474836488             173703  2011-10-01 09:45:25.806000+02:00   \n",
       "\n",
       "     case AMOUNT_REQ      event concept:name event lifecycle:transition  \\\n",
       "18             13500             A_SUBMITTED                   COMPLETE   \n",
       "19             13500       A_PARTLYSUBMITTED                   COMPLETE   \n",
       "22             13500           A_PREACCEPTED                   COMPLETE   \n",
       "24             13500  W_Completeren aanvraag                   SCHEDULE   \n",
       "91             13500  W_Completeren aanvraag                      START   \n",
       "92             13500  W_Completeren aanvraag                   COMPLETE   \n",
       "138            13500  W_Completeren aanvraag                      START   \n",
       "142            13500             A_CANCELLED                   COMPLETE   \n",
       "143            13500  W_Completeren aanvraag                   COMPLETE   \n",
       "\n",
       "        event time:timestamp  \n",
       "18   01-10-2011 09:45:25.806  \n",
       "19   01-10-2011 09:45:25.981  \n",
       "22   01-10-2011 09:46:18.211  \n",
       "24   01-10-2011 09:46:18.674  \n",
       "91   01-10-2011 11:37:46.748  \n",
       "92   01-10-2011 11:40:24.141  \n",
       "138  01-10-2011 12:40:26.958  \n",
       "142  01-10-2011 13:02:11.068  \n",
       "143  01-10-2011 13:02:12.557  "
      ],
      "text/html": "<div>\n<style scoped>\n    .dataframe tbody tr th:only-of-type {\n        vertical-align: middle;\n    }\n\n    .dataframe tbody tr th {\n        vertical-align: top;\n    }\n\n    .dataframe thead th {\n        text-align: right;\n    }\n</style>\n<table border=\"1\" class=\"dataframe\">\n  <thead>\n    <tr style=\"text-align: right;\">\n      <th></th>\n      <th>eventID</th>\n      <th>case concept:name</th>\n      <th>case REG_DATE</th>\n      <th>case AMOUNT_REQ</th>\n      <th>event concept:name</th>\n      <th>event lifecycle:transition</th>\n      <th>event time:timestamp</th>\n    </tr>\n  </thead>\n  <tbody>\n    <tr>\n      <th>18</th>\n      <td>21474836480</td>\n      <td>173703</td>\n      <td>2011-10-01 09:45:25.806000+02:00</td>\n      <td>13500</td>\n      <td>A_SUBMITTED</td>\n      <td>COMPLETE</td>\n      <td>01-10-2011 09:45:25.806</td>\n    </tr>\n    <tr>\n      <th>19</th>\n      <td>21474836481</td>\n      <td>173703</td>\n      <td>2011-10-01 09:45:25.806000+02:00</td>\n      <td>13500</td>\n      <td>A_PARTLYSUBMITTED</td>\n      <td>COMPLETE</td>\n      <td>01-10-2011 09:45:25.981</td>\n    </tr>\n    <tr>\n      <th>22</th>\n      <td>21474836482</td>\n      <td>173703</td>\n      <td>2011-10-01 09:45:25.806000+02:00</td>\n      <td>13500</td>\n      <td>A_PREACCEPTED</td>\n      <td>COMPLETE</td>\n      <td>01-10-2011 09:46:18.211</td>\n    </tr>\n    <tr>\n      <th>24</th>\n      <td>21474836483</td>\n      <td>173703</td>\n      <td>2011-10-01 09:45:25.806000+02:00</td>\n      <td>13500</td>\n      <td>W_Completeren aanvraag</td>\n      <td>SCHEDULE</td>\n      <td>01-10-2011 09:46:18.674</td>\n    </tr>\n    <tr>\n      <th>91</th>\n      <td>21474836484</td>\n      <td>173703</td>\n      <td>2011-10-01 09:45:25.806000+02:00</td>\n      <td>13500</td>\n      <td>W_Completeren aanvraag</td>\n      <td>START</td>\n      <td>01-10-2011 11:37:46.748</td>\n    </tr>\n    <tr>\n      <th>92</th>\n      <td>21474836485</td>\n      <td>173703</td>\n      <td>2011-10-01 09:45:25.806000+02:00</td>\n      <td>13500</td>\n      <td>W_Completeren aanvraag</td>\n      <td>COMPLETE</td>\n      <td>01-10-2011 11:40:24.141</td>\n    </tr>\n    <tr>\n      <th>138</th>\n      <td>21474836486</td>\n      <td>173703</td>\n      <td>2011-10-01 09:45:25.806000+02:00</td>\n      <td>13500</td>\n      <td>W_Completeren aanvraag</td>\n      <td>START</td>\n      <td>01-10-2011 12:40:26.958</td>\n    </tr>\n    <tr>\n      <th>142</th>\n      <td>21474836487</td>\n      <td>173703</td>\n      <td>2011-10-01 09:45:25.806000+02:00</td>\n      <td>13500</td>\n      <td>A_CANCELLED</td>\n      <td>COMPLETE</td>\n      <td>01-10-2011 13:02:11.068</td>\n    </tr>\n    <tr>\n      <th>143</th>\n      <td>21474836488</td>\n      <td>173703</td>\n      <td>2011-10-01 09:45:25.806000+02:00</td>\n      <td>13500</td>\n      <td>W_Completeren aanvraag</td>\n      <td>COMPLETE</td>\n      <td>01-10-2011 13:02:12.557</td>\n    </tr>\n  </tbody>\n</table>\n</div>"
     },
     "metadata": {},
     "execution_count": 52
    }
   ],
   "source": [
    "events = train[\"event concept:name\"].unique()\n",
    "\n",
    "cases = train[\"case concept:name\"].unique()\n",
    "train[train[\"case concept:name\"] == cases[5]]"
   ]
  },
  {
   "cell_type": "code",
   "execution_count": 33,
   "metadata": {},
   "outputs": [
    {
     "output_type": "execute_result",
     "data": {
      "text/plain": [
       "((214377, 7), (10469,))"
      ]
     },
     "metadata": {},
     "execution_count": 33
    }
   ],
   "source": [
    "train.shape, cases.shape"
   ]
  },
  {
   "cell_type": "code",
   "execution_count": 42,
   "metadata": {
    "tags": []
   },
   "outputs": [
    {
     "output_type": "stream",
     "name": "stdout",
     "text": [
      "Progress: 0%\nProgress: 1%\nProgress: 2%\nProgress: 3%\nProgress: 4%\nProgress: 5%\nProgress: 6%\nProgress: 7%\nProgress: 8%\nProgress: 9%\nProgress: 10%\nProgress: 11%\nProgress: 12%\nProgress: 13%\nProgress: 14%\nProgress: 15%\nProgress: 16%\nProgress: 17%\nProgress: 18%\nProgress: 19%\nProgress: 20%\nProgress: 21%\nProgress: 22%\nProgress: 23%\nProgress: 24%\nProgress: 25%\nProgress: 26%\nProgress: 27%\nProgress: 28%\nProgress: 29%\nProgress: 30%\nProgress: 31%\nProgress: 32%\nProgress: 33%\nProgress: 34%\nProgress: 35%\nProgress: 36%\nProgress: 37%\nProgress: 38%\nProgress: 39%\nProgress: 40%\nProgress: 41%\nProgress: 42%\nProgress: 43%\nProgress: 44%\nProgress: 45%\nProgress: 46%\nProgress: 47%\nProgress: 48%\nProgress: 49%\nProgress: 50%\nProgress: 51%\nProgress: 52%\nProgress: 53%\nProgress: 54%\nProgress: 55%\nProgress: 56%\nProgress: 57%\nProgress: 58%\nProgress: 59%\nProgress: 60%\nProgress: 61%\nProgress: 62%\nProgress: 63%\nProgress: 64%\nProgress: 65%\nProgress: 66%\nProgress: 67%\nProgress: 68%\nProgress: 69%\nProgress: 70%\nProgress: 71%\nProgress: 72%\nProgress: 73%\nProgress: 74%\nProgress: 75%\nProgress: 76%\nProgress: 77%\nProgress: 78%\nProgress: 79%\nProgress: 80%\nProgress: 81%\nProgress: 82%\nProgress: 83%\nProgress: 84%\nProgress: 85%\nProgress: 86%\nProgress: 87%\nProgress: 88%\nProgress: 89%\nProgress: 90%\nProgress: 91%\nProgress: 92%\nProgress: 93%\nProgress: 94%\nProgress: 95%\nProgress: 96%\nProgress: 97%\nProgress: 98%\nProgress: 99%\nProgress: 100%\n"
     ]
    }
   ],
   "source": [
    "percentage=0\n",
    "for i in range(0, train.shape[0]):\n",
    "\n",
    "    "
   ]
  },
  {
   "cell_type": "code",
   "execution_count": 77,
   "metadata": {},
   "outputs": [],
   "source": [
    "\n",
    "frequent_events = {}\n",
    "for item in events:\n",
    "    frequent_events[item] = []\n",
    "\n",
    "\n",
    "for case_nr in cases:\n",
    "    trace = train[train[\"case concept:name\"] == case_nr]\n",
    "    events_values = trace[\"event concept:name\"].values\n",
    "    i=1\n",
    "    for event in events_values:\n",
    "        next_event = events_values[i]\n",
    "        if next_event == event:\n",
    "            pass\n",
    "        else:\n",
    "            lst = frequent_events.get(event)\n",
    "            lst.append(next_event)\n",
    "            frequent_events[event] = lst\n",
    "        if i < len(events_values)-1:\n",
    "            i += 1\n",
    "\n",
    "final = {}\n",
    "for key in frequent_events.keys():\n",
    "    lst = frequent_events[key]\n",
    "    most_frequent = max(set(lst), key = lst.count)\n",
    "    final[key] = most_frequent\n"
   ]
  },
  {
   "cell_type": "code",
   "execution_count": 81,
   "metadata": {},
   "outputs": [
    {
     "output_type": "execute_result",
     "data": {
      "text/plain": [
       "True"
      ]
     },
     "metadata": {},
     "execution_count": 81
    }
   ],
   "source": [
    "type(train) == pd.core.frame.DataFrame"
   ]
  },
  {
   "cell_type": "code",
   "execution_count": 86,
   "metadata": {},
   "outputs": [],
   "source": [
    "test[\"event concept:name\"]\n",
    "\n",
    "def next_event(row):\n",
    "    next_event = final[row[\"event concept:name\"]]\n",
    "    return next_event\n",
    "test[\"NEXT EVENT\"] = test.apply(next_event, axis = 1)\n"
   ]
  },
  {
   "cell_type": "code",
   "execution_count": 87,
   "metadata": {},
   "outputs": [
    {
     "output_type": "execute_result",
     "data": {
      "text/plain": [
       "             eventID   case concept:name                  case REG_DATE  \\\n",
       "0      44964012621824             206324  2012-02-03T17:17:11.047+01:00   \n",
       "1      44964012621825             206324  2012-02-03T17:17:11.047+01:00   \n",
       "2      44964012621826             206324  2012-02-03T17:17:11.047+01:00   \n",
       "3      44968307589120             206327  2012-02-03T17:23:41.949+01:00   \n",
       "4      44968307589121             206327  2012-02-03T17:23:41.949+01:00   \n",
       "...               ...                ...                            ...   \n",
       "47818  54666343743523             213276  2012-02-27T14:12:41.868+01:00   \n",
       "47819  54666343743524             213276  2012-02-27T14:12:41.868+01:00   \n",
       "47820  49495203119136             209595  2012-02-15T10:10:36.503+01:00   \n",
       "47821  52342766436386             211624  2012-02-21T23:38:40.044+01:00   \n",
       "47822  52342766436387             211624  2012-02-21T23:38:40.044+01:00   \n",
       "\n",
       "       case AMOUNT_REQ              event concept:name  \\\n",
       "0                 2500                     A_SUBMITTED   \n",
       "1                 2500               A_PARTLYSUBMITTED   \n",
       "2                 2500                      A_DECLINED   \n",
       "3                 6000                     A_SUBMITTED   \n",
       "4                 6000               A_PARTLYSUBMITTED   \n",
       "...                ...                             ...   \n",
       "47818            15000  W_Nabellen incomplete dossiers   \n",
       "47819            15000  W_Nabellen incomplete dossiers   \n",
       "47820            13000             W_Nabellen offertes   \n",
       "47821            35000  W_Nabellen incomplete dossiers   \n",
       "47822            35000  W_Nabellen incomplete dossiers   \n",
       "\n",
       "      event lifecycle:transition     event time:timestamp  \\\n",
       "0                       COMPLETE  03-02-2012 17:17:11.047   \n",
       "1                       COMPLETE  03-02-2012 17:17:11.323   \n",
       "2                       COMPLETE  03-02-2012 17:17:42.964   \n",
       "3                       COMPLETE  03-02-2012 17:23:41.949   \n",
       "4                       COMPLETE  03-02-2012 17:23:42.504   \n",
       "...                          ...                      ...   \n",
       "47818                      START  14-03-2012 15:59:28.309   \n",
       "47819                   COMPLETE  14-03-2012 16:00:09.680   \n",
       "47820                      START  14-03-2012 16:02:03.883   \n",
       "47821                      START  14-03-2012 16:04:46.192   \n",
       "47822                   COMPLETE  14-03-2012 16:04:54.681   \n",
       "\n",
       "                   NEXT EVENT  \n",
       "0           A_PARTLYSUBMITTED  \n",
       "1          W_Afhandelen leads  \n",
       "2          W_Afhandelen leads  \n",
       "3           A_PARTLYSUBMITTED  \n",
       "4          W_Afhandelen leads  \n",
       "...                       ...  \n",
       "47818    W_Valideren aanvraag  \n",
       "47819    W_Valideren aanvraag  \n",
       "47820  W_Completeren aanvraag  \n",
       "47821    W_Valideren aanvraag  \n",
       "47822    W_Valideren aanvraag  \n",
       "\n",
       "[47823 rows x 8 columns]"
      ],
      "text/html": "<div>\n<style scoped>\n    .dataframe tbody tr th:only-of-type {\n        vertical-align: middle;\n    }\n\n    .dataframe tbody tr th {\n        vertical-align: top;\n    }\n\n    .dataframe thead th {\n        text-align: right;\n    }\n</style>\n<table border=\"1\" class=\"dataframe\">\n  <thead>\n    <tr style=\"text-align: right;\">\n      <th></th>\n      <th>eventID</th>\n      <th>case concept:name</th>\n      <th>case REG_DATE</th>\n      <th>case AMOUNT_REQ</th>\n      <th>event concept:name</th>\n      <th>event lifecycle:transition</th>\n      <th>event time:timestamp</th>\n      <th>NEXT EVENT</th>\n    </tr>\n  </thead>\n  <tbody>\n    <tr>\n      <th>0</th>\n      <td>44964012621824</td>\n      <td>206324</td>\n      <td>2012-02-03T17:17:11.047+01:00</td>\n      <td>2500</td>\n      <td>A_SUBMITTED</td>\n      <td>COMPLETE</td>\n      <td>03-02-2012 17:17:11.047</td>\n      <td>A_PARTLYSUBMITTED</td>\n    </tr>\n    <tr>\n      <th>1</th>\n      <td>44964012621825</td>\n      <td>206324</td>\n      <td>2012-02-03T17:17:11.047+01:00</td>\n      <td>2500</td>\n      <td>A_PARTLYSUBMITTED</td>\n      <td>COMPLETE</td>\n      <td>03-02-2012 17:17:11.323</td>\n      <td>W_Afhandelen leads</td>\n    </tr>\n    <tr>\n      <th>2</th>\n      <td>44964012621826</td>\n      <td>206324</td>\n      <td>2012-02-03T17:17:11.047+01:00</td>\n      <td>2500</td>\n      <td>A_DECLINED</td>\n      <td>COMPLETE</td>\n      <td>03-02-2012 17:17:42.964</td>\n      <td>W_Afhandelen leads</td>\n    </tr>\n    <tr>\n      <th>3</th>\n      <td>44968307589120</td>\n      <td>206327</td>\n      <td>2012-02-03T17:23:41.949+01:00</td>\n      <td>6000</td>\n      <td>A_SUBMITTED</td>\n      <td>COMPLETE</td>\n      <td>03-02-2012 17:23:41.949</td>\n      <td>A_PARTLYSUBMITTED</td>\n    </tr>\n    <tr>\n      <th>4</th>\n      <td>44968307589121</td>\n      <td>206327</td>\n      <td>2012-02-03T17:23:41.949+01:00</td>\n      <td>6000</td>\n      <td>A_PARTLYSUBMITTED</td>\n      <td>COMPLETE</td>\n      <td>03-02-2012 17:23:42.504</td>\n      <td>W_Afhandelen leads</td>\n    </tr>\n    <tr>\n      <th>...</th>\n      <td>...</td>\n      <td>...</td>\n      <td>...</td>\n      <td>...</td>\n      <td>...</td>\n      <td>...</td>\n      <td>...</td>\n      <td>...</td>\n    </tr>\n    <tr>\n      <th>47818</th>\n      <td>54666343743523</td>\n      <td>213276</td>\n      <td>2012-02-27T14:12:41.868+01:00</td>\n      <td>15000</td>\n      <td>W_Nabellen incomplete dossiers</td>\n      <td>START</td>\n      <td>14-03-2012 15:59:28.309</td>\n      <td>W_Valideren aanvraag</td>\n    </tr>\n    <tr>\n      <th>47819</th>\n      <td>54666343743524</td>\n      <td>213276</td>\n      <td>2012-02-27T14:12:41.868+01:00</td>\n      <td>15000</td>\n      <td>W_Nabellen incomplete dossiers</td>\n      <td>COMPLETE</td>\n      <td>14-03-2012 16:00:09.680</td>\n      <td>W_Valideren aanvraag</td>\n    </tr>\n    <tr>\n      <th>47820</th>\n      <td>49495203119136</td>\n      <td>209595</td>\n      <td>2012-02-15T10:10:36.503+01:00</td>\n      <td>13000</td>\n      <td>W_Nabellen offertes</td>\n      <td>START</td>\n      <td>14-03-2012 16:02:03.883</td>\n      <td>W_Completeren aanvraag</td>\n    </tr>\n    <tr>\n      <th>47821</th>\n      <td>52342766436386</td>\n      <td>211624</td>\n      <td>2012-02-21T23:38:40.044+01:00</td>\n      <td>35000</td>\n      <td>W_Nabellen incomplete dossiers</td>\n      <td>START</td>\n      <td>14-03-2012 16:04:46.192</td>\n      <td>W_Valideren aanvraag</td>\n    </tr>\n    <tr>\n      <th>47822</th>\n      <td>52342766436387</td>\n      <td>211624</td>\n      <td>2012-02-21T23:38:40.044+01:00</td>\n      <td>35000</td>\n      <td>W_Nabellen incomplete dossiers</td>\n      <td>COMPLETE</td>\n      <td>14-03-2012 16:04:54.681</td>\n      <td>W_Valideren aanvraag</td>\n    </tr>\n  </tbody>\n</table>\n<p>47823 rows × 8 columns</p>\n</div>"
     },
     "metadata": {},
     "execution_count": 87
    }
   ],
   "source": [
    "test"
   ]
  },
  {
   "cell_type": "code",
   "execution_count": 27,
   "metadata": {},
   "outputs": [],
   "source": [
    "def get_next_event(row):\n",
    "    case_id = row[\"case concept:name\"]\n",
    "    curr_time = row[\"event time:timestamp\"]\n",
    "    curr_event = row[\"event concept:name\"]\n",
    "    trace = train[(train[\"case concept:name\"] == row[\"case concept:name\"]) & (train[\"event time:timestamp\"] > row[\"event time:timestamp\"])]\n",
    "\n",
    "    next_event = trace[\"event concept:name\"]\n",
    "    if next_event.shape[0] < 1:\n",
    "        next_event = \"Last event\"\n",
    "    elif next_event.iloc[0] == curr_event:\n",
    "        next_event = None\n",
    "    else:\n",
    "        next_event = next_event.iloc[0]\n",
    "\n",
    "    return next_event"
   ]
  },
  {
   "cell_type": "code",
   "execution_count": 28,
   "metadata": {},
   "outputs": [
    {
     "output_type": "error",
     "ename": "KeyboardInterrupt",
     "evalue": "",
     "traceback": [
      "\u001b[1;31m---------------------------------------------------------------------------\u001b[0m",
      "\u001b[1;31mKeyboardInterrupt\u001b[0m                         Traceback (most recent call last)",
      "\u001b[1;32m<ipython-input-28-7b312740181e>\u001b[0m in \u001b[0;36m<module>\u001b[1;34m\u001b[0m\n\u001b[1;32m----> 1\u001b[1;33m \u001b[0mtrain\u001b[0m\u001b[1;33m[\u001b[0m\u001b[1;34m\"NEXT EVENT\"\u001b[0m\u001b[1;33m]\u001b[0m \u001b[1;33m=\u001b[0m \u001b[0mtrain\u001b[0m\u001b[1;33m.\u001b[0m\u001b[0mapply\u001b[0m\u001b[1;33m(\u001b[0m\u001b[0mget_next_event\u001b[0m\u001b[1;33m,\u001b[0m \u001b[0maxis\u001b[0m \u001b[1;33m=\u001b[0m \u001b[1;36m1\u001b[0m\u001b[1;33m)\u001b[0m\u001b[1;33m\u001b[0m\u001b[1;33m\u001b[0m\u001b[0m\n\u001b[0m",
      "\u001b[1;32m~\\Anaconda3\\envs\\group17\\lib\\site-packages\\pandas\\core\\frame.py\u001b[0m in \u001b[0;36mapply\u001b[1;34m(self, func, axis, raw, result_type, args, **kwds)\u001b[0m\n\u001b[0;32m   6876\u001b[0m             \u001b[0mkwds\u001b[0m\u001b[1;33m=\u001b[0m\u001b[0mkwds\u001b[0m\u001b[1;33m,\u001b[0m\u001b[1;33m\u001b[0m\u001b[1;33m\u001b[0m\u001b[0m\n\u001b[0;32m   6877\u001b[0m         )\n\u001b[1;32m-> 6878\u001b[1;33m         \u001b[1;32mreturn\u001b[0m \u001b[0mop\u001b[0m\u001b[1;33m.\u001b[0m\u001b[0mget_result\u001b[0m\u001b[1;33m(\u001b[0m\u001b[1;33m)\u001b[0m\u001b[1;33m\u001b[0m\u001b[1;33m\u001b[0m\u001b[0m\n\u001b[0m\u001b[0;32m   6879\u001b[0m \u001b[1;33m\u001b[0m\u001b[0m\n\u001b[0;32m   6880\u001b[0m     \u001b[1;32mdef\u001b[0m \u001b[0mapplymap\u001b[0m\u001b[1;33m(\u001b[0m\u001b[0mself\u001b[0m\u001b[1;33m,\u001b[0m \u001b[0mfunc\u001b[0m\u001b[1;33m)\u001b[0m \u001b[1;33m->\u001b[0m \u001b[1;34m\"DataFrame\"\u001b[0m\u001b[1;33m:\u001b[0m\u001b[1;33m\u001b[0m\u001b[1;33m\u001b[0m\u001b[0m\n",
      "\u001b[1;32m~\\Anaconda3\\envs\\group17\\lib\\site-packages\\pandas\\core\\apply.py\u001b[0m in \u001b[0;36mget_result\u001b[1;34m(self)\u001b[0m\n\u001b[0;32m    184\u001b[0m             \u001b[1;32mreturn\u001b[0m \u001b[0mself\u001b[0m\u001b[1;33m.\u001b[0m\u001b[0mapply_raw\u001b[0m\u001b[1;33m(\u001b[0m\u001b[1;33m)\u001b[0m\u001b[1;33m\u001b[0m\u001b[1;33m\u001b[0m\u001b[0m\n\u001b[0;32m    185\u001b[0m \u001b[1;33m\u001b[0m\u001b[0m\n\u001b[1;32m--> 186\u001b[1;33m         \u001b[1;32mreturn\u001b[0m \u001b[0mself\u001b[0m\u001b[1;33m.\u001b[0m\u001b[0mapply_standard\u001b[0m\u001b[1;33m(\u001b[0m\u001b[1;33m)\u001b[0m\u001b[1;33m\u001b[0m\u001b[1;33m\u001b[0m\u001b[0m\n\u001b[0m\u001b[0;32m    187\u001b[0m \u001b[1;33m\u001b[0m\u001b[0m\n\u001b[0;32m    188\u001b[0m     \u001b[1;32mdef\u001b[0m \u001b[0mapply_empty_result\u001b[0m\u001b[1;33m(\u001b[0m\u001b[0mself\u001b[0m\u001b[1;33m)\u001b[0m\u001b[1;33m:\u001b[0m\u001b[1;33m\u001b[0m\u001b[1;33m\u001b[0m\u001b[0m\n",
      "\u001b[1;32m~\\Anaconda3\\envs\\group17\\lib\\site-packages\\pandas\\core\\apply.py\u001b[0m in \u001b[0;36mapply_standard\u001b[1;34m(self)\u001b[0m\n\u001b[0;32m    294\u001b[0m             \u001b[1;32mtry\u001b[0m\u001b[1;33m:\u001b[0m\u001b[1;33m\u001b[0m\u001b[1;33m\u001b[0m\u001b[0m\n\u001b[0;32m    295\u001b[0m                 result = libreduction.compute_reduction(\n\u001b[1;32m--> 296\u001b[1;33m                     \u001b[0mvalues\u001b[0m\u001b[1;33m,\u001b[0m \u001b[0mself\u001b[0m\u001b[1;33m.\u001b[0m\u001b[0mf\u001b[0m\u001b[1;33m,\u001b[0m \u001b[0maxis\u001b[0m\u001b[1;33m=\u001b[0m\u001b[0mself\u001b[0m\u001b[1;33m.\u001b[0m\u001b[0maxis\u001b[0m\u001b[1;33m,\u001b[0m \u001b[0mdummy\u001b[0m\u001b[1;33m=\u001b[0m\u001b[0mdummy\u001b[0m\u001b[1;33m,\u001b[0m \u001b[0mlabels\u001b[0m\u001b[1;33m=\u001b[0m\u001b[0mlabels\u001b[0m\u001b[1;33m\u001b[0m\u001b[1;33m\u001b[0m\u001b[0m\n\u001b[0m\u001b[0;32m    297\u001b[0m                 )\n\u001b[0;32m    298\u001b[0m             \u001b[1;32mexcept\u001b[0m \u001b[0mValueError\u001b[0m \u001b[1;32mas\u001b[0m \u001b[0merr\u001b[0m\u001b[1;33m:\u001b[0m\u001b[1;33m\u001b[0m\u001b[1;33m\u001b[0m\u001b[0m\n",
      "\u001b[1;32mpandas\\_libs\\reduction.pyx\u001b[0m in \u001b[0;36mpandas._libs.reduction.compute_reduction\u001b[1;34m()\u001b[0m\n",
      "\u001b[1;32mpandas\\_libs\\reduction.pyx\u001b[0m in \u001b[0;36mpandas._libs.reduction.Reducer.get_result\u001b[1;34m()\u001b[0m\n",
      "\u001b[1;32m<ipython-input-27-08839ab37f11>\u001b[0m in \u001b[0;36mget_next_event\u001b[1;34m(row)\u001b[0m\n\u001b[0;32m      3\u001b[0m     \u001b[0mcurr_time\u001b[0m \u001b[1;33m=\u001b[0m \u001b[0mrow\u001b[0m\u001b[1;33m[\u001b[0m\u001b[1;34m\"event time:timestamp\"\u001b[0m\u001b[1;33m]\u001b[0m\u001b[1;33m\u001b[0m\u001b[1;33m\u001b[0m\u001b[0m\n\u001b[0;32m      4\u001b[0m     \u001b[0mcurr_event\u001b[0m \u001b[1;33m=\u001b[0m \u001b[0mrow\u001b[0m\u001b[1;33m[\u001b[0m\u001b[1;34m\"event concept:name\"\u001b[0m\u001b[1;33m]\u001b[0m\u001b[1;33m\u001b[0m\u001b[1;33m\u001b[0m\u001b[0m\n\u001b[1;32m----> 5\u001b[1;33m     \u001b[0mtrace\u001b[0m \u001b[1;33m=\u001b[0m \u001b[0mtrain\u001b[0m\u001b[1;33m[\u001b[0m\u001b[1;33m(\u001b[0m\u001b[0mtrain\u001b[0m\u001b[1;33m[\u001b[0m\u001b[1;34m\"case concept:name\"\u001b[0m\u001b[1;33m]\u001b[0m \u001b[1;33m==\u001b[0m \u001b[0mrow\u001b[0m\u001b[1;33m[\u001b[0m\u001b[1;34m\"case concept:name\"\u001b[0m\u001b[1;33m]\u001b[0m\u001b[1;33m)\u001b[0m \u001b[1;33m&\u001b[0m \u001b[1;33m(\u001b[0m\u001b[0mtrain\u001b[0m\u001b[1;33m[\u001b[0m\u001b[1;34m\"event time:timestamp\"\u001b[0m\u001b[1;33m]\u001b[0m \u001b[1;33m>\u001b[0m \u001b[0mrow\u001b[0m\u001b[1;33m[\u001b[0m\u001b[1;34m\"event time:timestamp\"\u001b[0m\u001b[1;33m]\u001b[0m\u001b[1;33m)\u001b[0m\u001b[1;33m]\u001b[0m\u001b[1;33m\u001b[0m\u001b[1;33m\u001b[0m\u001b[0m\n\u001b[0m\u001b[0;32m      6\u001b[0m \u001b[1;33m\u001b[0m\u001b[0m\n\u001b[0;32m      7\u001b[0m     \u001b[0mnext_event\u001b[0m \u001b[1;33m=\u001b[0m \u001b[0mtrace\u001b[0m\u001b[1;33m[\u001b[0m\u001b[1;34m\"event concept:name\"\u001b[0m\u001b[1;33m]\u001b[0m\u001b[1;33m\u001b[0m\u001b[1;33m\u001b[0m\u001b[0m\n",
      "\u001b[1;32m~\\Anaconda3\\envs\\group17\\lib\\site-packages\\pandas\\core\\ops\\common.py\u001b[0m in \u001b[0;36mnew_method\u001b[1;34m(self, other)\u001b[0m\n\u001b[0;32m     62\u001b[0m         \u001b[0mother\u001b[0m \u001b[1;33m=\u001b[0m \u001b[0mitem_from_zerodim\u001b[0m\u001b[1;33m(\u001b[0m\u001b[0mother\u001b[0m\u001b[1;33m)\u001b[0m\u001b[1;33m\u001b[0m\u001b[1;33m\u001b[0m\u001b[0m\n\u001b[0;32m     63\u001b[0m \u001b[1;33m\u001b[0m\u001b[0m\n\u001b[1;32m---> 64\u001b[1;33m         \u001b[1;32mreturn\u001b[0m \u001b[0mmethod\u001b[0m\u001b[1;33m(\u001b[0m\u001b[0mself\u001b[0m\u001b[1;33m,\u001b[0m \u001b[0mother\u001b[0m\u001b[1;33m)\u001b[0m\u001b[1;33m\u001b[0m\u001b[1;33m\u001b[0m\u001b[0m\n\u001b[0m\u001b[0;32m     65\u001b[0m \u001b[1;33m\u001b[0m\u001b[0m\n\u001b[0;32m     66\u001b[0m     \u001b[1;32mreturn\u001b[0m \u001b[0mnew_method\u001b[0m\u001b[1;33m\u001b[0m\u001b[1;33m\u001b[0m\u001b[0m\n",
      "\u001b[1;32m~\\Anaconda3\\envs\\group17\\lib\\site-packages\\pandas\\core\\ops\\__init__.py\u001b[0m in \u001b[0;36mwrapper\u001b[1;34m(self, other)\u001b[0m\n\u001b[0;32m    527\u001b[0m         \u001b[0mrvalues\u001b[0m \u001b[1;33m=\u001b[0m \u001b[0mextract_array\u001b[0m\u001b[1;33m(\u001b[0m\u001b[0mother\u001b[0m\u001b[1;33m,\u001b[0m \u001b[0mextract_numpy\u001b[0m\u001b[1;33m=\u001b[0m\u001b[1;32mTrue\u001b[0m\u001b[1;33m)\u001b[0m\u001b[1;33m\u001b[0m\u001b[1;33m\u001b[0m\u001b[0m\n\u001b[0;32m    528\u001b[0m \u001b[1;33m\u001b[0m\u001b[0m\n\u001b[1;32m--> 529\u001b[1;33m         \u001b[0mres_values\u001b[0m \u001b[1;33m=\u001b[0m \u001b[0mcomparison_op\u001b[0m\u001b[1;33m(\u001b[0m\u001b[0mlvalues\u001b[0m\u001b[1;33m,\u001b[0m \u001b[0mrvalues\u001b[0m\u001b[1;33m,\u001b[0m \u001b[0mop\u001b[0m\u001b[1;33m)\u001b[0m\u001b[1;33m\u001b[0m\u001b[1;33m\u001b[0m\u001b[0m\n\u001b[0m\u001b[0;32m    530\u001b[0m \u001b[1;33m\u001b[0m\u001b[0m\n\u001b[0;32m    531\u001b[0m         \u001b[1;32mreturn\u001b[0m \u001b[0m_construct_result\u001b[0m\u001b[1;33m(\u001b[0m\u001b[0mself\u001b[0m\u001b[1;33m,\u001b[0m \u001b[0mres_values\u001b[0m\u001b[1;33m,\u001b[0m \u001b[0mindex\u001b[0m\u001b[1;33m=\u001b[0m\u001b[0mself\u001b[0m\u001b[1;33m.\u001b[0m\u001b[0mindex\u001b[0m\u001b[1;33m,\u001b[0m \u001b[0mname\u001b[0m\u001b[1;33m=\u001b[0m\u001b[0mres_name\u001b[0m\u001b[1;33m)\u001b[0m\u001b[1;33m\u001b[0m\u001b[1;33m\u001b[0m\u001b[0m\n",
      "\u001b[1;32m~\\Anaconda3\\envs\\group17\\lib\\site-packages\\pandas\\core\\ops\\array_ops.py\u001b[0m in \u001b[0;36mcomparison_op\u001b[1;34m(left, right, op)\u001b[0m\n\u001b[0;32m    245\u001b[0m \u001b[1;33m\u001b[0m\u001b[0m\n\u001b[0;32m    246\u001b[0m     \u001b[1;32melif\u001b[0m \u001b[0mis_object_dtype\u001b[0m\u001b[1;33m(\u001b[0m\u001b[0mlvalues\u001b[0m\u001b[1;33m.\u001b[0m\u001b[0mdtype\u001b[0m\u001b[1;33m)\u001b[0m\u001b[1;33m:\u001b[0m\u001b[1;33m\u001b[0m\u001b[1;33m\u001b[0m\u001b[0m\n\u001b[1;32m--> 247\u001b[1;33m         \u001b[0mres_values\u001b[0m \u001b[1;33m=\u001b[0m \u001b[0mcomp_method_OBJECT_ARRAY\u001b[0m\u001b[1;33m(\u001b[0m\u001b[0mop\u001b[0m\u001b[1;33m,\u001b[0m \u001b[0mlvalues\u001b[0m\u001b[1;33m,\u001b[0m \u001b[0mrvalues\u001b[0m\u001b[1;33m)\u001b[0m\u001b[1;33m\u001b[0m\u001b[1;33m\u001b[0m\u001b[0m\n\u001b[0m\u001b[0;32m    248\u001b[0m \u001b[1;33m\u001b[0m\u001b[0m\n\u001b[0;32m    249\u001b[0m     \u001b[1;32melse\u001b[0m\u001b[1;33m:\u001b[0m\u001b[1;33m\u001b[0m\u001b[1;33m\u001b[0m\u001b[0m\n",
      "\u001b[1;32m~\\Anaconda3\\envs\\group17\\lib\\site-packages\\pandas\\core\\ops\\array_ops.py\u001b[0m in \u001b[0;36mcomp_method_OBJECT_ARRAY\u001b[1;34m(op, x, y)\u001b[0m\n\u001b[0;32m     56\u001b[0m     \u001b[1;32melse\u001b[0m\u001b[1;33m:\u001b[0m\u001b[1;33m\u001b[0m\u001b[1;33m\u001b[0m\u001b[0m\n\u001b[0;32m     57\u001b[0m         \u001b[0mresult\u001b[0m \u001b[1;33m=\u001b[0m \u001b[0mlibops\u001b[0m\u001b[1;33m.\u001b[0m\u001b[0mscalar_compare\u001b[0m\u001b[1;33m(\u001b[0m\u001b[0mx\u001b[0m\u001b[1;33m.\u001b[0m\u001b[0mravel\u001b[0m\u001b[1;33m(\u001b[0m\u001b[1;33m)\u001b[0m\u001b[1;33m,\u001b[0m \u001b[0my\u001b[0m\u001b[1;33m,\u001b[0m \u001b[0mop\u001b[0m\u001b[1;33m)\u001b[0m\u001b[1;33m\u001b[0m\u001b[1;33m\u001b[0m\u001b[0m\n\u001b[1;32m---> 58\u001b[1;33m     \u001b[1;32mreturn\u001b[0m \u001b[0mresult\u001b[0m\u001b[1;33m.\u001b[0m\u001b[0mreshape\u001b[0m\u001b[1;33m(\u001b[0m\u001b[0mx\u001b[0m\u001b[1;33m.\u001b[0m\u001b[0mshape\u001b[0m\u001b[1;33m)\u001b[0m\u001b[1;33m\u001b[0m\u001b[1;33m\u001b[0m\u001b[0m\n\u001b[0m\u001b[0;32m     59\u001b[0m \u001b[1;33m\u001b[0m\u001b[0m\n\u001b[0;32m     60\u001b[0m \u001b[1;33m\u001b[0m\u001b[0m\n",
      "\u001b[1;31mKeyboardInterrupt\u001b[0m: "
     ]
    }
   ],
   "source": [
    "train[\"NEXT EVENT\"] = train.apply(get_next_event, axis = 1)"
   ]
  },
  {
   "cell_type": "code",
   "execution_count": null,
   "metadata": {},
   "outputs": [],
   "source": [
    "train"
   ]
  },
  {
   "cell_type": "code",
   "execution_count": null,
   "metadata": {},
   "outputs": [],
   "source": []
  }
 ]
}