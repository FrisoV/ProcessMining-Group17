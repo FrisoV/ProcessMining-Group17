{
 "metadata": {
  "language_info": {
   "codemirror_mode": {
    "name": "ipython",
    "version": 3
   },
   "file_extension": ".py",
   "mimetype": "text/x-python",
   "name": "python",
   "nbconvert_exporter": "python",
   "pygments_lexer": "ipython3",
   "version": "3.7.7-final"
  },
  "orig_nbformat": 2,
  "kernelspec": {
   "name": "python3",
   "display_name": "Python 3",
   "language": "python"
  }
 },
 "nbformat": 4,
 "nbformat_minor": 2,
 "cells": [
  {
   "cell_type": "code",
   "execution_count": 2,
   "metadata": {},
   "outputs": [],
   "source": [
    "import pandas as pd\n",
    "\n",
    "train = pd.read_csv(\"data/BPI_Challenge_2012-training.csv\")\n",
    "test = pd.read_csv(\"data/BPI_Challenge_2012-test.csv\")"
   ]
  },
  {
   "cell_type": "code",
   "execution_count": 3,
   "metadata": {},
   "outputs": [],
   "source": [
    "colnames = train.columns\n",
    "\n",
    "train[\"events\"] = train[\"event concept:name\"] + \" \" + train[\"event lifecycle:transition\"]"
   ]
  },
  {
   "cell_type": "code",
   "execution_count": 5,
   "metadata": {},
   "outputs": [
    {
     "output_type": "execute_result",
     "data": {
      "text/plain": [
       "              eventID   case concept:name                  case REG_DATE  \\\n",
       "214357  43976170143789             205604  2012-02-01T14:07:54.212+01:00   \n",
       "214358  43976170143790             205604  2012-02-01T14:07:54.212+01:00   \n",
       "214359  44753559224358             206177  2012-02-03T09:39:06.746+01:00   \n",
       "214360  44753559224359             206177  2012-02-03T09:39:06.746+01:00   \n",
       "214361  44753559224360             206177  2012-02-03T09:39:06.746+01:00   \n",
       "214362  44753559224361             206177  2012-02-03T09:39:06.746+01:00   \n",
       "214363  43426414329922             205199  2012-01-31T07:11:17.575+01:00   \n",
       "214364  43426414329923             205199  2012-01-31T07:11:17.575+01:00   \n",
       "214365  43426414329924             205199  2012-01-31T07:11:17.575+01:00   \n",
       "214366  43426414329925             205199  2012-01-31T07:11:17.575+01:00   \n",
       "214367  39449274613830             202307  2012-01-19T15:11:22.262+01:00   \n",
       "214368  39449274613831             202307  2012-01-19T15:11:22.262+01:00   \n",
       "214369  43976170143791             205604  2012-02-01T14:07:54.212+01:00   \n",
       "214370  43976170143792             205604  2012-02-01T14:07:54.212+01:00   \n",
       "214371  38835094290527             201854  2012-01-18T02:09:07.029+01:00   \n",
       "214372  38835094290529             201854  2012-01-18T02:09:07.029+01:00   \n",
       "214373  38835094290528             201854  2012-01-18T02:09:07.029+01:00   \n",
       "214374  38835094290530             201854  2012-01-18T02:09:07.029+01:00   \n",
       "214375  35858681954366             199678  2012-01-10T19:16:52.800+01:00   \n",
       "214376  35858681954367             199678  2012-01-10T19:16:52.800+01:00   \n",
       "\n",
       "        case AMOUNT_REQ              event concept:name  \\\n",
       "214357            30000  W_Nabellen incomplete dossiers   \n",
       "214358            30000            W_Valideren aanvraag   \n",
       "214359             7500             W_Nabellen offertes   \n",
       "214360             7500                     O_SENT_BACK   \n",
       "214361             7500            W_Valideren aanvraag   \n",
       "214362             7500             W_Nabellen offertes   \n",
       "214363            10000             W_Nabellen offertes   \n",
       "214364            10000             W_Nabellen offertes   \n",
       "214365            10000             W_Nabellen offertes   \n",
       "214366            10000             W_Nabellen offertes   \n",
       "214367             7000  W_Nabellen incomplete dossiers   \n",
       "214368             7000  W_Nabellen incomplete dossiers   \n",
       "214369            30000  W_Nabellen incomplete dossiers   \n",
       "214370            30000  W_Nabellen incomplete dossiers   \n",
       "214371            50000  W_Nabellen incomplete dossiers   \n",
       "214372            50000                     O_CANCELLED   \n",
       "214373            50000                     A_CANCELLED   \n",
       "214374            50000  W_Nabellen incomplete dossiers   \n",
       "214375            30000             W_Nabellen offertes   \n",
       "214376            30000             W_Nabellen offertes   \n",
       "\n",
       "       event lifecycle:transition     event time:timestamp  \\\n",
       "214357                   SCHEDULE  14-03-2012 10:44:31.553   \n",
       "214358                   COMPLETE  14-03-2012 10:44:33.511   \n",
       "214359                      START  14-03-2012 10:59:01.989   \n",
       "214360                   COMPLETE  14-03-2012 10:59:15.297   \n",
       "214361                   SCHEDULE  14-03-2012 10:59:15.451   \n",
       "214362                   COMPLETE  14-03-2012 10:59:16.730   \n",
       "214363                      START  14-03-2012 12:44:12.341   \n",
       "214364                   COMPLETE  14-03-2012 12:45:28.886   \n",
       "214365                      START  14-03-2012 12:46:28.343   \n",
       "214366                   COMPLETE  14-03-2012 12:46:42.305   \n",
       "214367                      START  14-03-2012 13:53:16.834   \n",
       "214368                   COMPLETE  14-03-2012 13:57:41.549   \n",
       "214369                      START  14-03-2012 15:09:35.475   \n",
       "214370                   COMPLETE  14-03-2012 15:12:42.164   \n",
       "214371                      START  14-03-2012 15:18:00.229   \n",
       "214372                   COMPLETE  14-03-2012 15:30:19.361   \n",
       "214373                   COMPLETE  14-03-2012 15:30:19.361   \n",
       "214374                   COMPLETE  14-03-2012 15:30:23.187   \n",
       "214375                      START  14-03-2012 15:36:15.299   \n",
       "214376                   COMPLETE  14-03-2012 15:40:34.231   \n",
       "\n",
       "                                         events  \n",
       "214357  W_Nabellen incomplete dossiers SCHEDULE  \n",
       "214358            W_Valideren aanvraag COMPLETE  \n",
       "214359                W_Nabellen offertes START  \n",
       "214360                     O_SENT_BACK COMPLETE  \n",
       "214361            W_Valideren aanvraag SCHEDULE  \n",
       "214362             W_Nabellen offertes COMPLETE  \n",
       "214363                W_Nabellen offertes START  \n",
       "214364             W_Nabellen offertes COMPLETE  \n",
       "214365                W_Nabellen offertes START  \n",
       "214366             W_Nabellen offertes COMPLETE  \n",
       "214367     W_Nabellen incomplete dossiers START  \n",
       "214368  W_Nabellen incomplete dossiers COMPLETE  \n",
       "214369     W_Nabellen incomplete dossiers START  \n",
       "214370  W_Nabellen incomplete dossiers COMPLETE  \n",
       "214371     W_Nabellen incomplete dossiers START  \n",
       "214372                     O_CANCELLED COMPLETE  \n",
       "214373                     A_CANCELLED COMPLETE  \n",
       "214374  W_Nabellen incomplete dossiers COMPLETE  \n",
       "214375                W_Nabellen offertes START  \n",
       "214376             W_Nabellen offertes COMPLETE  "
      ],
      "text/html": "<div>\n<style scoped>\n    .dataframe tbody tr th:only-of-type {\n        vertical-align: middle;\n    }\n\n    .dataframe tbody tr th {\n        vertical-align: top;\n    }\n\n    .dataframe thead th {\n        text-align: right;\n    }\n</style>\n<table border=\"1\" class=\"dataframe\">\n  <thead>\n    <tr style=\"text-align: right;\">\n      <th></th>\n      <th>eventID</th>\n      <th>case concept:name</th>\n      <th>case REG_DATE</th>\n      <th>case AMOUNT_REQ</th>\n      <th>event concept:name</th>\n      <th>event lifecycle:transition</th>\n      <th>event time:timestamp</th>\n      <th>events</th>\n    </tr>\n  </thead>\n  <tbody>\n    <tr>\n      <th>214357</th>\n      <td>43976170143789</td>\n      <td>205604</td>\n      <td>2012-02-01T14:07:54.212+01:00</td>\n      <td>30000</td>\n      <td>W_Nabellen incomplete dossiers</td>\n      <td>SCHEDULE</td>\n      <td>14-03-2012 10:44:31.553</td>\n      <td>W_Nabellen incomplete dossiers SCHEDULE</td>\n    </tr>\n    <tr>\n      <th>214358</th>\n      <td>43976170143790</td>\n      <td>205604</td>\n      <td>2012-02-01T14:07:54.212+01:00</td>\n      <td>30000</td>\n      <td>W_Valideren aanvraag</td>\n      <td>COMPLETE</td>\n      <td>14-03-2012 10:44:33.511</td>\n      <td>W_Valideren aanvraag COMPLETE</td>\n    </tr>\n    <tr>\n      <th>214359</th>\n      <td>44753559224358</td>\n      <td>206177</td>\n      <td>2012-02-03T09:39:06.746+01:00</td>\n      <td>7500</td>\n      <td>W_Nabellen offertes</td>\n      <td>START</td>\n      <td>14-03-2012 10:59:01.989</td>\n      <td>W_Nabellen offertes START</td>\n    </tr>\n    <tr>\n      <th>214360</th>\n      <td>44753559224359</td>\n      <td>206177</td>\n      <td>2012-02-03T09:39:06.746+01:00</td>\n      <td>7500</td>\n      <td>O_SENT_BACK</td>\n      <td>COMPLETE</td>\n      <td>14-03-2012 10:59:15.297</td>\n      <td>O_SENT_BACK COMPLETE</td>\n    </tr>\n    <tr>\n      <th>214361</th>\n      <td>44753559224360</td>\n      <td>206177</td>\n      <td>2012-02-03T09:39:06.746+01:00</td>\n      <td>7500</td>\n      <td>W_Valideren aanvraag</td>\n      <td>SCHEDULE</td>\n      <td>14-03-2012 10:59:15.451</td>\n      <td>W_Valideren aanvraag SCHEDULE</td>\n    </tr>\n    <tr>\n      <th>214362</th>\n      <td>44753559224361</td>\n      <td>206177</td>\n      <td>2012-02-03T09:39:06.746+01:00</td>\n      <td>7500</td>\n      <td>W_Nabellen offertes</td>\n      <td>COMPLETE</td>\n      <td>14-03-2012 10:59:16.730</td>\n      <td>W_Nabellen offertes COMPLETE</td>\n    </tr>\n    <tr>\n      <th>214363</th>\n      <td>43426414329922</td>\n      <td>205199</td>\n      <td>2012-01-31T07:11:17.575+01:00</td>\n      <td>10000</td>\n      <td>W_Nabellen offertes</td>\n      <td>START</td>\n      <td>14-03-2012 12:44:12.341</td>\n      <td>W_Nabellen offertes START</td>\n    </tr>\n    <tr>\n      <th>214364</th>\n      <td>43426414329923</td>\n      <td>205199</td>\n      <td>2012-01-31T07:11:17.575+01:00</td>\n      <td>10000</td>\n      <td>W_Nabellen offertes</td>\n      <td>COMPLETE</td>\n      <td>14-03-2012 12:45:28.886</td>\n      <td>W_Nabellen offertes COMPLETE</td>\n    </tr>\n    <tr>\n      <th>214365</th>\n      <td>43426414329924</td>\n      <td>205199</td>\n      <td>2012-01-31T07:11:17.575+01:00</td>\n      <td>10000</td>\n      <td>W_Nabellen offertes</td>\n      <td>START</td>\n      <td>14-03-2012 12:46:28.343</td>\n      <td>W_Nabellen offertes START</td>\n    </tr>\n    <tr>\n      <th>214366</th>\n      <td>43426414329925</td>\n      <td>205199</td>\n      <td>2012-01-31T07:11:17.575+01:00</td>\n      <td>10000</td>\n      <td>W_Nabellen offertes</td>\n      <td>COMPLETE</td>\n      <td>14-03-2012 12:46:42.305</td>\n      <td>W_Nabellen offertes COMPLETE</td>\n    </tr>\n    <tr>\n      <th>214367</th>\n      <td>39449274613830</td>\n      <td>202307</td>\n      <td>2012-01-19T15:11:22.262+01:00</td>\n      <td>7000</td>\n      <td>W_Nabellen incomplete dossiers</td>\n      <td>START</td>\n      <td>14-03-2012 13:53:16.834</td>\n      <td>W_Nabellen incomplete dossiers START</td>\n    </tr>\n    <tr>\n      <th>214368</th>\n      <td>39449274613831</td>\n      <td>202307</td>\n      <td>2012-01-19T15:11:22.262+01:00</td>\n      <td>7000</td>\n      <td>W_Nabellen incomplete dossiers</td>\n      <td>COMPLETE</td>\n      <td>14-03-2012 13:57:41.549</td>\n      <td>W_Nabellen incomplete dossiers COMPLETE</td>\n    </tr>\n    <tr>\n      <th>214369</th>\n      <td>43976170143791</td>\n      <td>205604</td>\n      <td>2012-02-01T14:07:54.212+01:00</td>\n      <td>30000</td>\n      <td>W_Nabellen incomplete dossiers</td>\n      <td>START</td>\n      <td>14-03-2012 15:09:35.475</td>\n      <td>W_Nabellen incomplete dossiers START</td>\n    </tr>\n    <tr>\n      <th>214370</th>\n      <td>43976170143792</td>\n      <td>205604</td>\n      <td>2012-02-01T14:07:54.212+01:00</td>\n      <td>30000</td>\n      <td>W_Nabellen incomplete dossiers</td>\n      <td>COMPLETE</td>\n      <td>14-03-2012 15:12:42.164</td>\n      <td>W_Nabellen incomplete dossiers COMPLETE</td>\n    </tr>\n    <tr>\n      <th>214371</th>\n      <td>38835094290527</td>\n      <td>201854</td>\n      <td>2012-01-18T02:09:07.029+01:00</td>\n      <td>50000</td>\n      <td>W_Nabellen incomplete dossiers</td>\n      <td>START</td>\n      <td>14-03-2012 15:18:00.229</td>\n      <td>W_Nabellen incomplete dossiers START</td>\n    </tr>\n    <tr>\n      <th>214372</th>\n      <td>38835094290529</td>\n      <td>201854</td>\n      <td>2012-01-18T02:09:07.029+01:00</td>\n      <td>50000</td>\n      <td>O_CANCELLED</td>\n      <td>COMPLETE</td>\n      <td>14-03-2012 15:30:19.361</td>\n      <td>O_CANCELLED COMPLETE</td>\n    </tr>\n    <tr>\n      <th>214373</th>\n      <td>38835094290528</td>\n      <td>201854</td>\n      <td>2012-01-18T02:09:07.029+01:00</td>\n      <td>50000</td>\n      <td>A_CANCELLED</td>\n      <td>COMPLETE</td>\n      <td>14-03-2012 15:30:19.361</td>\n      <td>A_CANCELLED COMPLETE</td>\n    </tr>\n    <tr>\n      <th>214374</th>\n      <td>38835094290530</td>\n      <td>201854</td>\n      <td>2012-01-18T02:09:07.029+01:00</td>\n      <td>50000</td>\n      <td>W_Nabellen incomplete dossiers</td>\n      <td>COMPLETE</td>\n      <td>14-03-2012 15:30:23.187</td>\n      <td>W_Nabellen incomplete dossiers COMPLETE</td>\n    </tr>\n    <tr>\n      <th>214375</th>\n      <td>35858681954366</td>\n      <td>199678</td>\n      <td>2012-01-10T19:16:52.800+01:00</td>\n      <td>30000</td>\n      <td>W_Nabellen offertes</td>\n      <td>START</td>\n      <td>14-03-2012 15:36:15.299</td>\n      <td>W_Nabellen offertes START</td>\n    </tr>\n    <tr>\n      <th>214376</th>\n      <td>35858681954367</td>\n      <td>199678</td>\n      <td>2012-01-10T19:16:52.800+01:00</td>\n      <td>30000</td>\n      <td>W_Nabellen offertes</td>\n      <td>COMPLETE</td>\n      <td>14-03-2012 15:40:34.231</td>\n      <td>W_Nabellen offertes COMPLETE</td>\n    </tr>\n  </tbody>\n</table>\n</div>"
     },
     "metadata": {},
     "execution_count": 5
    }
   ],
   "source": [
    "train.tail(20)"
   ]
  },
  {
   "cell_type": "code",
   "execution_count": null,
   "metadata": {},
   "outputs": [],
   "source": []
  }
 ]
}